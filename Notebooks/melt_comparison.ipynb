{
 "cells": [
  {
   "cell_type": "code",
   "execution_count": 53,
   "id": "4464255c-ed7a-4f0c-bb24-fcfcedaa2c53",
   "metadata": {},
   "outputs": [],
   "source": [
    "### Import modules\n",
    "%matplotlib inline\n",
    "import numpy as np\n",
    "import matplotlib.pyplot as plt\n",
    "import xarray as xr\n",
    "import cmocean.cm as cmo\n",
    "from scipy.optimize import fsolve\n",
    "\n",
    "\n",
    "font = {'size'   : 8}\n",
    "plt.rc('font', **font)\n",
    "\n",
    "## simulation constants\n",
    "nu = 2e-6\n",
    "k=0.41\n",
    "f0=1.37e-4\n",
    "T=2*np.pi/f0\n",
    "alpha = 3.8e-5\n",
    "beta = 7.8e-4\n",
    "Pr = 14\n",
    "Sc = 1500\n",
    "kt=nu/Pr\n",
    "ks=nu/Sc\n",
    "L = 3.35e5\n",
    "cp = 4.184e3 \n",
    "rhoi = 917\n",
    "rhow=1030\n",
    "\n",
    "## Other\n",
    "syr = 60*60*24*365\n",
    "sH = 60*60"
   ]
  },
  {
   "cell_type": "markdown",
   "id": "d6a60aa4-2c5d-4f74-a8a0-3b6c4f3c9289",
   "metadata": {},
   "source": [
    "## Solve for parameterised melt rate - three equations using Jenkins 2010 transfer coefficients\n",
    "+ $mLc_p = \\Gamma_T C_d^{0.5} rms(U)(T-T_b)$"
   ]
  },
  {
   "cell_type": "code",
   "execution_count": null,
   "id": "3402582a-f746-4a4b-812d-9265012eaa5c",
   "metadata": {},
   "outputs": [],
   "source": [
    "### J10 melt rate using rms(U)\n",
    "GT=0.011\n",
    "GS=4.0e-4\n",
    "Sinf =34.5\n",
    "Ca = cp*rhow/(rhoi*L)\n",
    "Cb = rhow/rhoi\n",
    "l1 = 0.057\n",
    "l2 = -0.311\n",
    "\n",
    "def equations(p):\n",
    "    Tb, Sb, m = p\n",
    "    return (Ca*GT*us*(Tml-Tb)- m ,\n",
    "            (Sml-Sb)*Cb*GS*us/Sb - m,\n",
    "            -Sb*l1+l2-Tb)\n"
   ]
  },
  {
   "cell_type": "code",
   "execution_count": 103,
   "id": "5132d639-c6db-43b4-b5e9-7b426646cad7",
   "metadata": {},
   "outputs": [
    {
     "name": "stdout",
     "output_type": "stream",
     "text": [
      "-2.2767831238252043 34.48742322500358 1.0277874992296923\n",
      "-2.2767831238252043 34.48742322500358 0.3937255127609791\n",
      "-2.276790330545511 34.487549658693176 1.015484294308953\n",
      "-2.276790330545511 34.487549658693176 0.46571490048369624\n"
     ]
    }
   ],
   "source": [
    "# ### Load data - tidal melting experiments\n",
    "headstr = '../Data'\n",
    "tailstr = ['/Stokes-Ekman/','/Stokes/']\n",
    "\n",
    "## simulation parameters\n",
    "A0 = [0.028, 0.028]\n",
    "omega = 1.41e-4\n",
    "T = 2*np.pi/omega\n",
    "nT_end = [6,6] # length of sim in tidal periods\n",
    "tnew = np.linspace(4.9, 6.1, 100)*T\n",
    "\n",
    "# ###\n",
    "melt_arr = np.empty([len(A0),len(tnew)])\n",
    "melt_arr[:,:] = np.nan\n",
    "\n",
    "for ii in [0,1]: #range(2): \n",
    "    fname = '%sISOBL_model_output.nc'% (headstr + tailstr[ii])\n",
    "    tmp = xr.open_dataset(fname)\n",
    "    ds = tmp.sel(t=slice(4.9*T, 6.1*T)).interp(t = tnew)\n",
    "        \n",
    "    ## heat transfer coefficient: GammaT = kappaT * dT/dz|_b/(DeltaT * u^*)\n",
    "    DeltaT = ds.Temp.sel(y=0.3, method = 'nearest')-ds.Temp.isel(y=0) \n",
    "    DeltaS = ds.Sal.sel(y=0.3, method = 'nearest')-ds.Sal.isel(y=0) \n",
    "    dTdz = ds.Temp.differentiate(\"y\").isel(y=0)\n",
    "    dSdz = ds.Sal.differentiate(\"y\").isel(y=0)\n",
    "    ustar = (nu*((ds.U.differentiate(\"y\").isel(y=0))**2+(ds.W.differentiate(\"y\").isel(y=0))**2)**0.5)**0.5\n",
    "    gammaT = kt*dTdz/(ustar*DeltaT)\n",
    "    gammaS = ks*dSdz/(ustar*DeltaS)\n",
    "    \n",
    "    V = -(cp/L)*(nu/Pr)*(1/0.92)*dTdz*syr\n",
    "    melt_arr[ii,:] = -V\n",
    "    \n",
    "    ## solve also for param melt rates\n",
    "    U_inf = ds.U.sel(y=6, method = 'nearest')\n",
    "    RMS_U = np.nanmean((U_inf.sel(t=slice(5*T, 6*T)))**2)**0.5\n",
    "    us = 0.0098**0.5*RMS_U\n",
    "    Tml = np.nanmean(ds.Temp.sel(y=0.5, method = 'nearest'))\n",
    "    Sml = np.nanmean(ds.Sal.sel(y=0.5, method = 'nearest'))\n",
    "    \n",
    "    ## param meltrate, Cd=0.0098\n",
    "    us = 0.0098**0.5*RMS_U\n",
    "    Tb, Sb, m =  fsolve(equations, (Tml, Sml, -0.001/syr))\n",
    "    print(Tb, Sb, m*syr*100)\n",
    "    \n",
    "    ## param meltrate, Cd=0.0025\n",
    "    us = 0.0025**0.5*RMS_U\n",
    "    Tb, Sb, m =  fsolve(equations, (Tml, Sml, -0.001/syr))\n",
    "    print(Tb, Sb, m*syr*100)\n",
    "    \n",
    "\n",
    "    \n"
   ]
  },
  {
   "cell_type": "code",
   "execution_count": 127,
   "id": "47fd9b31-fdc4-405b-a08e-488cf5dcbacc",
   "metadata": {},
   "outputs": [
    {
     "data": {
      "text/plain": [
       "<matplotlib.legend.Legend at 0x141adcc70>"
      ]
     },
     "execution_count": 127,
     "metadata": {},
     "output_type": "execute_result"
    },
    {
     "data": {
      "image/png": "[encoded data removed]",
      "text/plain": [
       "<Figure size 400x160 with 1 Axes>"
      ]
     },
     "metadata": {},
     "output_type": "display_data"
    }
   ],
   "source": [
    "fig, ax1 = plt.subplots()\n",
    "fig.set_size_inches(4, 1.6)\n",
    "\n",
    "ax1.plot(ds.t/T,melt_arr[0,:]*100,linewidth=1.5,color='orangered',linestyle='-', label='ellipse')\n",
    "ax1.axhline(y=np.nanmean(melt_arr[0,:])*100, color='r', linestyle='-', linewidth = 1.5, alpha = 0.2)\n",
    "ax1.plot(ds.t/T,melt_arr[1,:]*100,linewidth=1.5,color='goldenrod',label='rectilinear',linestyle='-')\n",
    "ax1.axhline(y=np.nanmean(melt_arr[1,:])*100, color='goldenrod', linestyle='-', linewidth = 1.5, alpha = 0.2)\n",
    "ax1.axhline(0.513, color='k', linestyle='-.', linewidth = 0.8, label = r'$rms(U), C_d=0.0025$')\n",
    "ax1.axhline(1.015, color='k', linestyle='--', linewidth = 0.8, label = r'$rms(U), C_d=0.0098$')\n",
    "ax1.set(ylim = [0, 1.1], xlim = [5, 6],ylabel = r'$m$ (cm/yr)', xlabel = r'cycle')\n",
    "ax1.legend(fontsize = 6,  ncol = 2, loc=(0.18, 1.04)) "
   ]
  },
  {
   "cell_type": "code",
   "execution_count": null,
   "id": "58dbf944-864d-4fad-89de-4603f6f8885d",
   "metadata": {},
   "outputs": [],
   "source": []
  }
 ],
 "metadata": {
  "kernelspec": {
   "display_name": "Python 3 (ipykernel)",
   "language": "python",
   "name": "python3"
  },
  "language_info": {
   "codemirror_mode": {
    "name": "ipython",
    "version": 3
   },
   "file_extension": ".py",
   "mimetype": "text/x-python",
   "name": "python",
   "nbconvert_exporter": "python",
   "pygments_lexer": "ipython3",
   "version": "3.9.12"
  }
 },
 "nbformat": 4,
 "nbformat_minor": 5
}
